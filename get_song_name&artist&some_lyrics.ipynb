{
 "cells": [
  {
   "cell_type": "code",
   "execution_count": 1,
   "metadata": {},
   "outputs": [],
   "source": [
    "def get_top100_list():\n",
    "    output_list = list()\n",
    "    url = \"https://www.billboard.com/charts/hot-100\"\n",
    "\n",
    "    import requests\n",
    "    from bs4 import BeautifulSoup\n",
    "    \n",
    "    try:\n",
    "        response = requests.get(url)   \n",
    "        if not response.status_code == 200:\n",
    "            print(\"HTTP error\",response.status_code)\n",
    "        else:\n",
    "            try:\n",
    "                soup = BeautifulSoup(response.content,'lxml')\n",
    "            except:\n",
    "                print('something went wrong')\n",
    "    except:\n",
    "        print(\"Something went wrong with request.get\")\n",
    "    \n",
    "    all_songs = soup.find_all('div',class_='chart-list-item__text')\n",
    "    \n",
    "    for song in all_songs:\n",
    "        song_name = song.find('span',class_='chart-list-item__title-text').get_text()\n",
    "        artist = song.find('div',class_='chart-list-item__artist').get_text()\n",
    "        try:\n",
    "            lyrics_link = song.find('div',class_='chart-list-item__lyrics').find('a').get('href')\n",
    "        except:\n",
    "            lyrics_link = 'no_link_for_the_lyrics_on_billboard'\n",
    "\n",
    "        if song_name:\n",
    "            try:\n",
    "                lyrics = get_lyrics(lyrics_link)\n",
    "            except:\n",
    "                lyrics = 'no_link_for_the_lyrics_on_billboard'\n",
    "            output_list.append((song_name,artist,lyrics))\n",
    "    \n",
    "    #append top1,no lyrics for top1 on billboard\n",
    "    top1_name = soup.find('div',class_='chart-number-one__title').get_text()\n",
    "    top1_artist = soup.find('div',class_='chart-number-one__artist').get_text()\n",
    "    output_list.append((top1_name,top1_artist))\n",
    "    \n",
    "    return output_list"
   ]
  },
  {
   "cell_type": "code",
   "execution_count": 2,
   "metadata": {},
   "outputs": [],
   "source": [
    "def get_lyrics(lyrics_link):\n",
    "    import requests\n",
    "    from bs4 import BeautifulSoup \n",
    "    page = requests.get(lyrics_link)\n",
    "    soup = BeautifulSoup(page.content,'lxml') \n",
    "    \n",
    "    try:\n",
    "        lyrics = soup.find('div',class_='lyrics').find('p').get_text() \n",
    "    except:\n",
    "        lyrics = '--'\n",
    "    \n",
    "    return lyrics"
   ]
  },
  {
   "cell_type": "code",
   "execution_count": null,
   "metadata": {},
   "outputs": [],
   "source": [
    "#testing new\n",
    "get_lyrics('https://www.billboard.com/articles/news/lyrics/8477102/travis-scott-sicko-mode-lyrics')"
   ]
  }
 ],
 "metadata": {
  "kernelspec": {
   "display_name": "Python 3",
   "language": "python",
   "name": "python3"
  },
  "language_info": {
   "codemirror_mode": {
    "name": "ipython",
    "version": 3
   },
   "file_extension": ".py",
   "mimetype": "text/x-python",
   "name": "python",
   "nbconvert_exporter": "python",
   "pygments_lexer": "ipython3",
   "version": "3.6.5"
  }
 },
 "nbformat": 4,
 "nbformat_minor": 2
}
