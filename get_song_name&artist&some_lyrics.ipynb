{
 "cells": [
  {
   "cell_type": "code",
   "execution_count": 1,
   "metadata": {},
   "outputs": [],
   "source": [
    "def get_top100_list():\n",
    "    output_list = list()\n",
    "    url = \"https://www.billboard.com/charts/hot-100\"\n",
    "\n",
    "    import requests\n",
    "    from bs4 import BeautifulSoup\n",
    "    \n",
    "    try:\n",
    "        response = requests.get(url)   \n",
    "        if not response.status_code == 200:\n",
    "            print(\"HTTP error\",response.status_code)\n",
    "        else:\n",
    "            try:\n",
    "                soup = BeautifulSoup(response.content,'lxml')\n",
    "            except:\n",
    "                print('something went wrong')\n",
    "    except:\n",
    "        print(\"Something went wrong with request.get\")\n",
    "    \n",
    "    top1_name = soup.find('div',class_='chart-number-one__title').get_text()\n",
    "    top1_artist = soup.find('div',class_='chart-number-one__artist').get_text()\n",
    "    output_list.append((top1_name,top1_artist))\n",
    "    \n",
    "    all_songs = soup.find_all('div',class_='chart-list-item__text')\n",
    "    \n",
    "    for song in all_songs:\n",
    "        song_name = song.find('span',class_='chart-list-item__title-text').get_text()\n",
    "        artist = song.find('div',class_='chart-list-item__artist').get_text()\n",
    "        output_list.append((song_name,artist))\n",
    "    \n",
    "    return output_list"
   ]
  },
  {
   "cell_type": "code",
   "execution_count": 2,
   "metadata": {},
   "outputs": [],
   "source": [
    "def get_all_info(list_of_songs):\n",
    "    import requests\n",
    "    import re\n",
    "    from bs4 import BeautifulSoup\n",
    "    all_song_info = []\n",
    "    for song in list_of_songs:\n",
    "        name = song[0].strip()\n",
    "        string = 'Sunflower (Spider-Man: Into The Spider-Verse)'\n",
    "        pattern = r'[^()]+'\n",
    "        match = re.search(pattern,name)\n",
    "        name = match.group().strip()\n",
    "        artist = song[1].strip()\n",
    "        token = 'agZ_VYrkzow8Wo80yQSUpgi0V9J9szWwtLF4cY9inzE-jIoOe3xrs43F9yYB28Xg'\n",
    "        base_url = 'https://api.genius.com'\n",
    "        headers = {'Authorization': 'Bearer ' + token}\n",
    "        search_url = base_url + '/search'\n",
    "        data = {'q': name + ' ' + artist}\n",
    "        try:\n",
    "            response = requests.get(search_url, data=data, headers=headers)\n",
    "        except:\n",
    "            print('Error happens.')\n",
    "        lyric_path = 'http://genius.com'+response.json()['response']['hits'][0]['result']['path']\n",
    "        try:\n",
    "            response2 = requests.get(lyric_path)\n",
    "        except:\n",
    "            print('Error happens while searching for lyrics.')\n",
    "            continue\n",
    "        response2_page = BeautifulSoup(response2.content,'lxml')\n",
    "        list_=response2_page.find('div',class_='lyrics').find_all('a',class_='referent')\n",
    "        lyrics = ''\n",
    "        for item in list_:\n",
    "            line = item.get_text()\n",
    "            lyrics += line + ' '\n",
    "        all_song_info.append((name,artist,lyrics))\n",
    "    return all_song_info"
   ]
  },
  {
   "cell_type": "markdown",
   "metadata": {},
   "source": [
    "### search songs"
   ]
  },
  {
   "cell_type": "code",
   "execution_count": 5,
   "metadata": {},
   "outputs": [],
   "source": [
    "def get_song_lyrics(top100_list):  # top100_list contain (song_name,artist,lyrics)\n",
    "    i=0\n",
    "    song_lyrics_dict = dict()\n",
    "    while i < len(top100_list):\n",
    "        song_name = top100_list[i][0].strip()\n",
    "        lyrics = top100_list[i][2].strip()\n",
    "        song_lyrics_dict[song_name]= lyrics\n",
    "        i = i+1\n",
    "    return song_lyrics_dict # (song_name,lyrics)"
   ]
  },
  {
   "cell_type": "code",
   "execution_count": null,
   "metadata": {},
   "outputs": [],
   "source": [
    "song_lyrics_dict = get_song_lyrics(top100_list)"
   ]
  },
  {
   "cell_type": "code",
   "execution_count": null,
   "metadata": {},
   "outputs": [],
   "source": [
    "def find_song(search_list):  # song_lyrics_dict\n",
    "    \n",
    "    import re\n",
    "    from nltk import word_tokenize\n",
    "    \n",
    "    song_name= []\n",
    "    result_dict=dict()\n",
    "    for key in song_lyrics_dict.keys():\n",
    "        result_dict[key] = 1\n",
    "    \n",
    "    for sword in search_list:\n",
    "        sword = sword.lower()\n",
    "        for key,value in song_lyrics_dict.items():\n",
    "            lyrics=value.replace(',','').lower()\n",
    "            lyrics_list = word_tokenize(lyrics)\n",
    "            if sword not in lyrics_list:\n",
    "                result_dict[key]= 0\n",
    "    \n",
    "    for key, value in result_dict.items():\n",
    "        if value:\n",
    "            song_name.append(key)\n",
    "    return song_name"
   ]
  },
  {
   "cell_type": "code",
   "execution_count": null,
   "metadata": {},
   "outputs": [],
   "source": [
    "find_song(['wreck'])"
   ]
  }
 ],
 "metadata": {
  "kernelspec": {
   "display_name": "Python 3",
   "language": "python",
   "name": "python3"
  },
  "language_info": {
   "codemirror_mode": {
    "name": "ipython",
    "version": 3
   },
   "file_extension": ".py",
   "mimetype": "text/x-python",
   "name": "python",
   "nbconvert_exporter": "python",
   "pygments_lexer": "ipython3",
   "version": "3.6.5"
  }
 },
 "nbformat": 4,
 "nbformat_minor": 2
}
